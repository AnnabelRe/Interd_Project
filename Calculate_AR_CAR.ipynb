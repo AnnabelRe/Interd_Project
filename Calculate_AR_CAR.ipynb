{
 "cells": [
  {
   "cell_type": "markdown",
   "id": "a7b41681-2376-413b-9c83-2e1e8ba93a73",
   "metadata": {},
   "source": [
    "# Test calculation AR "
   ]
  },
  {
   "cell_type": "code",
   "execution_count": 1,
   "id": "3d29df0c-f730-4ddc-9de5-f2ec5445a8d2",
   "metadata": {},
   "outputs": [],
   "source": [
    "import pandas as pd\n",
    "import numpy as np\n",
    "import time\n",
    "import datetime \n",
    "import LinearReg\n",
    "from sklearn.linear_model import LinearRegression\n",
    "\n",
    "\n",
    "path = \"/Users/admin/Documents/Interd Project/data/\""
   ]
  },
  {
   "cell_type": "code",
   "execution_count": 2,
   "id": "ded7c527-3d28-4596-a84c-79218347f708",
   "metadata": {},
   "outputs": [],
   "source": [
    "DD = pd.read_pickle(path+\"DD.pkl\")\n",
    "\n",
    "compRI = pd.read_excel(path+\"daily_returns.xlsx\")\n",
    "marketRI = pd.read_excel(path+\"market_daily.xlsx\")"
   ]
  },
  {
   "cell_type": "code",
   "execution_count": 3,
   "id": "ecf52b5f-7779-4435-af18-edc0b7fef58b",
   "metadata": {},
   "outputs": [],
   "source": [
    "DD = DD.drop(columns=[\"Unnamed: 0\",\"Unnamed: 0.1\"])\n",
    "DD = DD.drop_duplicates()"
   ]
  },
  {
   "cell_type": "code",
   "execution_count": 126,
   "id": "9f0ef387-bdef-4323-92ad-5bcce9e8795f",
   "metadata": {},
   "outputs": [],
   "source": [
    "L1 = 200\n",
    "L2 = 20\n"
   ]
  },
  {
   "cell_type": "code",
   "execution_count": 127,
   "id": "6dfb829a-9f2f-4ac4-b87e-c5be01e8476f",
   "metadata": {
    "tags": []
   },
   "outputs": [
    {
     "data": {
      "text/html": [
       "<div>\n",
       "<style scoped>\n",
       "    .dataframe tbody tr th:only-of-type {\n",
       "        vertical-align: middle;\n",
       "    }\n",
       "\n",
       "    .dataframe tbody tr th {\n",
       "        vertical-align: top;\n",
       "    }\n",
       "\n",
       "    .dataframe thead th {\n",
       "        text-align: right;\n",
       "    }\n",
       "</style>\n",
       "<table border=\"1\" class=\"dataframe\">\n",
       "  <thead>\n",
       "    <tr style=\"text-align: right;\">\n",
       "      <th></th>\n",
       "      <th>X</th>\n",
       "      <th>Filing Date</th>\n",
       "      <th>Trade Date</th>\n",
       "      <th>Ticker</th>\n",
       "      <th>Insider Name</th>\n",
       "      <th>Title</th>\n",
       "      <th>Trade Type</th>\n",
       "      <th>Price</th>\n",
       "      <th>Qty</th>\n",
       "      <th>Owned</th>\n",
       "      <th>...</th>\n",
       "      <th>1w</th>\n",
       "      <th>1m</th>\n",
       "      <th>6m</th>\n",
       "      <th>Company Name</th>\n",
       "      <th>Last Name</th>\n",
       "      <th>First Name</th>\n",
       "      <th>Second Name</th>\n",
       "      <th>Rest Name</th>\n",
       "      <th>Gender</th>\n",
       "      <th>ISIN CODE</th>\n",
       "    </tr>\n",
       "  </thead>\n",
       "  <tbody>\n",
       "    <tr>\n",
       "      <th>0</th>\n",
       "      <td>D</td>\n",
       "      <td>2006-01-05 11:46:58</td>\n",
       "      <td>2005-12-30</td>\n",
       "      <td>AABC</td>\n",
       "      <td>Ottensmeyer David</td>\n",
       "      <td>Dir</td>\n",
       "      <td>P - Purchase</td>\n",
       "      <td>$0.00</td>\n",
       "      <td>+7,914</td>\n",
       "      <td>42,494</td>\n",
       "      <td>...</td>\n",
       "      <td>NaN</td>\n",
       "      <td>NaN</td>\n",
       "      <td>NaN</td>\n",
       "      <td>NaN</td>\n",
       "      <td>Ottensmeyer</td>\n",
       "      <td>David</td>\n",
       "      <td>NaN</td>\n",
       "      <td>NaN</td>\n",
       "      <td>Male</td>\n",
       "      <td>US00431F1057</td>\n",
       "    </tr>\n",
       "    <tr>\n",
       "      <th>1</th>\n",
       "      <td>D</td>\n",
       "      <td>2006-01-05 11:46:42</td>\n",
       "      <td>2005-12-30</td>\n",
       "      <td>AABC</td>\n",
       "      <td>Martin Thomas W III</td>\n",
       "      <td>Dir</td>\n",
       "      <td>P - Purchase</td>\n",
       "      <td>$0.00</td>\n",
       "      <td>+8,006</td>\n",
       "      <td>30,624</td>\n",
       "      <td>...</td>\n",
       "      <td>NaN</td>\n",
       "      <td>NaN</td>\n",
       "      <td>NaN</td>\n",
       "      <td>NaN</td>\n",
       "      <td>Martin</td>\n",
       "      <td>Thomas</td>\n",
       "      <td>W</td>\n",
       "      <td>III</td>\n",
       "      <td>Male</td>\n",
       "      <td>US00431F1057</td>\n",
       "    </tr>\n",
       "    <tr>\n",
       "      <th>2</th>\n",
       "      <td>D</td>\n",
       "      <td>2006-01-05 11:46:23</td>\n",
       "      <td>2005-12-30</td>\n",
       "      <td>AABC</td>\n",
       "      <td>Lydick Robert Chad</td>\n",
       "      <td>Dir</td>\n",
       "      <td>P - Purchase</td>\n",
       "      <td>$0.00</td>\n",
       "      <td>+6,418</td>\n",
       "      <td>22,921</td>\n",
       "      <td>...</td>\n",
       "      <td>NaN</td>\n",
       "      <td>NaN</td>\n",
       "      <td>NaN</td>\n",
       "      <td>NaN</td>\n",
       "      <td>Lydick</td>\n",
       "      <td>Robert</td>\n",
       "      <td>Chad</td>\n",
       "      <td>NaN</td>\n",
       "      <td>Male</td>\n",
       "      <td>US00431F1057</td>\n",
       "    </tr>\n",
       "  </tbody>\n",
       "</table>\n",
       "<p>3 rows × 23 columns</p>\n",
       "</div>"
      ],
      "text/plain": [
       "   X          Filing Date  Trade Date Ticker         Insider Name Title  \\\n",
       "0  D  2006-01-05 11:46:58  2005-12-30   AABC    Ottensmeyer David   Dir   \n",
       "1  D  2006-01-05 11:46:42  2005-12-30   AABC  Martin Thomas W III   Dir   \n",
       "2  D  2006-01-05 11:46:23  2005-12-30   AABC   Lydick Robert Chad   Dir   \n",
       "\n",
       "   Trade Type    Price     Qty   Owned  ...   1w   1m   6m Company Name  \\\n",
       "0  P - Purchase  $0.00  +7,914  42,494  ...  NaN  NaN  NaN          NaN   \n",
       "1  P - Purchase  $0.00  +8,006  30,624  ...  NaN  NaN  NaN          NaN   \n",
       "2  P - Purchase  $0.00  +6,418  22,921  ...  NaN  NaN  NaN          NaN   \n",
       "\n",
       "     Last Name First Name Second Name Rest Name Gender     ISIN CODE  \n",
       "0  Ottensmeyer      David         NaN       NaN   Male  US00431F1057  \n",
       "1       Martin     Thomas           W       III   Male  US00431F1057  \n",
       "2       Lydick     Robert        Chad       NaN   Male  US00431F1057  \n",
       "\n",
       "[3 rows x 23 columns]"
      ]
     },
     "execution_count": 127,
     "metadata": {},
     "output_type": "execute_result"
    }
   ],
   "source": [
    "isin = compRI['ISIN'][0]\n",
    "zeig = DD[DD['ISIN CODE'] == isin]\n",
    "event_day = DD[\"Filing Date\"][0]\n",
    "comp_index = compRI[compRI['ISIN'] == isin].index\n",
    "zeig.head(3)"
   ]
  },
  {
   "cell_type": "code",
   "execution_count": 128,
   "id": "165e136f-e0ac-4d33-a4ab-202c7e108b4f",
   "metadata": {},
   "outputs": [
    {
     "data": {
      "text/plain": [
       "'US00431F1057'"
      ]
     },
     "execution_count": 128,
     "metadata": {},
     "output_type": "execute_result"
    }
   ],
   "source": [
    "isin"
   ]
  },
  {
   "cell_type": "code",
   "execution_count": 129,
   "id": "b3f51f15-d57c-47f1-9cfa-86c68c73e388",
   "metadata": {},
   "outputs": [
    {
     "data": {
      "text/plain": [
       "Timestamp('2006-01-05 00:00:00')"
      ]
     },
     "execution_count": 129,
     "metadata": {},
     "output_type": "execute_result"
    }
   ],
   "source": [
    "event_day =pd.to_datetime(event_day).normalize()\n",
    "event_day"
   ]
  },
  {
   "cell_type": "code",
   "execution_count": 130,
   "id": "cd05a186-a21b-4ce5-a22d-f2987b8eed60",
   "metadata": {},
   "outputs": [
    {
     "name": "stdout",
     "output_type": "stream",
     "text": [
      "1475 1675 1715 1915\n"
     ]
    }
   ],
   "source": [
    "company_RI = compRI[compRI[\"ISIN\"].isin([isin])]\n",
    "\n",
    "#same index for market and company\n",
    "event_index = compRI.columns.get_loc(event_day)\n",
    "\n",
    "T1_index = event_index-L2\n",
    "T2_index = event_index+L2\n",
    "T0_index = T1_index-L1\n",
    "T3_index = T2_index+L1\n",
    "print(T0_index, T1_index,T2_index,T3_index) "
   ]
  },
  {
   "cell_type": "code",
   "execution_count": 131,
   "id": "124155df-e3e3-4a29-9bc5-418d5deedc1c",
   "metadata": {},
   "outputs": [],
   "source": [
    "#Do we even need this? \n",
    "market_event_RI =marketRI.iloc[:1,event_index]\n",
    "comp_event_RI =company_RI.iloc[comp_index,event_index]"
   ]
  },
  {
   "cell_type": "code",
   "execution_count": 132,
   "id": "e9a251b7-2622-4239-91fe-71a0b2c6fc59",
   "metadata": {},
   "outputs": [],
   "source": [
    "#Do we even need this? --> Need for tests \n",
    "T1_comp = company_RI.iloc[:1,T1_index]\n",
    "T1_market = marketRI.iloc[:1,T1_index]\n",
    "T0_comp = company_RI.iloc[:1,T0_index]\n",
    "T0_market = marketRI.iloc[:1,T0_index]\n",
    "T2_comp = company_RI.iloc[:1,T2_index]\n",
    "T2_market = marketRI.iloc[:1,T2_index]\n",
    "T3_comp = company_RI.iloc[:1,T3_index]\n",
    "T3_market = marketRI.iloc[:1,T3_index]"
   ]
  },
  {
   "cell_type": "code",
   "execution_count": 133,
   "id": "e38e2435-4e14-4e2c-bb1f-960dff83740d",
   "metadata": {},
   "outputs": [
    {
     "name": "stdout",
     "output_type": "stream",
     "text": [
      "(1, 200)\n",
      "(1, 200)\n",
      "(1, 40)\n",
      "(1, 40)\n"
     ]
    }
   ],
   "source": [
    "# Estimation window\n",
    "estimation_window_market = marketRI.iloc[:1,T0_index:T1_index]\n",
    "estimation_window_comp = company_RI.iloc[:,T0_index:T1_index]\n",
    "\n",
    "print(estimation_window_market.shape)\n",
    "print(estimation_window_comp.shape)\n",
    "\n",
    "# Event-Window\n",
    "event_window_market = marketRI.iloc[:1,T1_index:T2_index]\n",
    "event_window_comp= company_RI.iloc[:,T1_index:T2_index]\n",
    "\n",
    "print(event_window_market.shape)\n",
    "print(event_window_comp.shape)"
   ]
  },
  {
   "cell_type": "code",
   "execution_count": 134,
   "id": "6c621db1-a074-477f-ba4b-5a3ab9d09615",
   "metadata": {
    "tags": []
   },
   "outputs": [],
   "source": [
    "y=estimation_window_comp.values[0,:]\n",
    "X=estimation_window_market.values[0,:]\n",
    "\n",
    "X = np.c_[np.ones(X.shape[0]), X]\n",
    "\n",
    "reg = LinearRegression().fit(X,y)\n",
    "\n",
    "# Remove the constant\n",
    "x = x[:,1]\n",
    "a = reg.intercept_\n",
    "b = reg.coef_"
   ]
  },
  {
   "cell_type": "code",
   "execution_count": 135,
   "id": "f064869b-368f-420d-baa8-106d792761d9",
   "metadata": {},
   "outputs": [
    {
     "data": {
      "text/plain": [
       "Timestamp('2006-01-05 00:00:00')"
      ]
     },
     "execution_count": 135,
     "metadata": {},
     "output_type": "execute_result"
    }
   ],
   "source": [
    "event_day"
   ]
  },
  {
   "cell_type": "code",
   "execution_count": 136,
   "id": "5562d73e-4971-4c58-846d-c546c1881639",
   "metadata": {},
   "outputs": [
    {
     "data": {
      "text/html": [
       "<div>\n",
       "<style scoped>\n",
       "    .dataframe tbody tr th:only-of-type {\n",
       "        vertical-align: middle;\n",
       "    }\n",
       "\n",
       "    .dataframe tbody tr th {\n",
       "        vertical-align: top;\n",
       "    }\n",
       "\n",
       "    .dataframe thead th {\n",
       "        text-align: right;\n",
       "    }\n",
       "</style>\n",
       "<table border=\"1\" class=\"dataframe\">\n",
       "  <thead>\n",
       "    <tr style=\"text-align: right;\">\n",
       "      <th></th>\n",
       "      <th>2005-12-08</th>\n",
       "      <th>2005-12-09</th>\n",
       "      <th>2005-12-12</th>\n",
       "      <th>2005-12-13</th>\n",
       "      <th>2005-12-14</th>\n",
       "      <th>2005-12-15</th>\n",
       "      <th>2005-12-16</th>\n",
       "      <th>2005-12-19</th>\n",
       "      <th>2005-12-20</th>\n",
       "      <th>2005-12-21</th>\n",
       "      <th>...</th>\n",
       "      <th>2006-01-19</th>\n",
       "      <th>2006-01-20</th>\n",
       "      <th>2006-01-23</th>\n",
       "      <th>2006-01-24</th>\n",
       "      <th>2006-01-25</th>\n",
       "      <th>2006-01-26</th>\n",
       "      <th>2006-01-27</th>\n",
       "      <th>2006-01-30</th>\n",
       "      <th>2006-01-31</th>\n",
       "      <th>2006-02-01</th>\n",
       "    </tr>\n",
       "  </thead>\n",
       "  <tbody>\n",
       "    <tr>\n",
       "      <th>0</th>\n",
       "      <td>-105.59912</td>\n",
       "      <td>-105.567271</td>\n",
       "      <td>-105.547784</td>\n",
       "      <td>-105.557956</td>\n",
       "      <td>-105.59864</td>\n",
       "      <td>-105.59744</td>\n",
       "      <td>-105.56058</td>\n",
       "      <td>-105.612135</td>\n",
       "      <td>-105.574338</td>\n",
       "      <td>-105.581047</td>\n",
       "      <td>...</td>\n",
       "      <td>-105.580707</td>\n",
       "      <td>-105.582748</td>\n",
       "      <td>-105.581284</td>\n",
       "      <td>-105.580847</td>\n",
       "      <td>-105.581428</td>\n",
       "      <td>-105.580697</td>\n",
       "      <td>-105.580733</td>\n",
       "      <td>-105.581234</td>\n",
       "      <td>-105.581329</td>\n",
       "      <td>-105.581177</td>\n",
       "    </tr>\n",
       "  </tbody>\n",
       "</table>\n",
       "<p>1 rows × 40 columns</p>\n",
       "</div>"
      ],
      "text/plain": [
       "   2005-12-08  2005-12-09  2005-12-12  2005-12-13  2005-12-14  2005-12-15  \\\n",
       "0  -105.59912 -105.567271 -105.547784 -105.557956  -105.59864  -105.59744   \n",
       "\n",
       "   2005-12-16  2005-12-19  2005-12-20  2005-12-21  ...  2006-01-19  \\\n",
       "0  -105.56058 -105.612135 -105.574338 -105.581047  ... -105.580707   \n",
       "\n",
       "   2006-01-20  2006-01-23  2006-01-24  2006-01-25  2006-01-26  2006-01-27  \\\n",
       "0 -105.582748 -105.581284 -105.580847 -105.581428 -105.580697 -105.580733   \n",
       "\n",
       "   2006-01-30  2006-01-31  2006-02-01  \n",
       "0 -105.581234 -105.581329 -105.581177  \n",
       "\n",
       "[1 rows x 40 columns]"
      ]
     },
     "execution_count": 136,
     "metadata": {},
     "output_type": "execute_result"
    }
   ],
   "source": [
    "AR = event_window_comp - alpha - beta*event_window_market\n",
    "AR"
   ]
  },
  {
   "cell_type": "code",
   "execution_count": 165,
   "id": "e8345e3b-598a-474f-94c6-a1327e0c2d9d",
   "metadata": {},
   "outputs": [],
   "source": [
    "'''Calculate Cumulative Abnormal Returns (CARs) for the periods -20 to -1 trading days,\n",
    "0 to 5 trading days, 0 bis 10 trading days, and 0 to 20 trading days, using the ARs calculated in\n",
    "step 3.'''\n",
    "\n",
    "CAR_20_1= AR.iloc[:,0:19].cumsum(axis=1)\n",
    "CAR_0_5 = AR.iloc[:,20:26].cumsum(axis=1)\n",
    "CAR_0_10 = AR.iloc[:,20:31].cumsum(axis=1)\n",
    "CAR_0_20 = AR.iloc[:,20:40].cumsum(axis=1)\n",
    "\n"
   ]
  },
  {
   "cell_type": "code",
   "execution_count": null,
   "id": "d335f1bd-1656-43c9-96ee-ef8d40b32e68",
   "metadata": {},
   "outputs": [],
   "source": []
  }
 ],
 "metadata": {
  "kernelspec": {
   "display_name": "Python 3 (ipykernel)",
   "language": "python",
   "name": "python3"
  },
  "language_info": {
   "codemirror_mode": {
    "name": "ipython",
    "version": 3
   },
   "file_extension": ".py",
   "mimetype": "text/x-python",
   "name": "python",
   "nbconvert_exporter": "python",
   "pygments_lexer": "ipython3",
   "version": "3.9.12"
  }
 },
 "nbformat": 4,
 "nbformat_minor": 5
}
