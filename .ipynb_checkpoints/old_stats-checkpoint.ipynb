{
 "cells": [
  {
   "cell_type": "code",
   "execution_count": null,
   "id": "d915accc-fa7a-4231-8b68-d056347a333c",
   "metadata": {},
   "outputs": [],
   "source": [
    "ARs = ARs.reset_index()\n",
    "idx_Fem_sales = ARs[(ARs[\"Gender\"]==\"Female\") & (ARs[\"Trade Type\"]== \"S - Sale\")].index\n",
    "idx_Fem_salesOE = ARs[(ARs[\"Gender\"]==\"Female\") & (ARs[\"Trade Type\"]== \"S - Sale+OE\")].index\n",
    "idx_Fem_purchases = ARs[(ARs[\"Gender\"]==\"Female\") & (ARs[\"Trade Type\"].str.contains(\"P - Purchase\"))].index\n",
    "idx_Male_sales = ARs[(ARs[\"Gender\"]==\"Male\") & (ARs[\"Trade Type\"]== \"S - Sale\")].index\n",
    "idx_Male_purchases = ARs[(ARs[\"Gender\"]==\"Male\") & (ARs[\"Trade Type\"].str.contains(\"P - Purchase\"))].index\n",
    "idx_Male_salesOE = ARs[(ARs[\"Gender\"]==\"Male\") & (ARs[\"Trade Type\"]==\"S - Sale+OE\")].index\n",
    "\n",
    "idx_lists = [idx_Fem_sales,idx_Fem_salesOE,idx_Fem_purchases,idx_Male_sales,idx_Male_purchases,idx_Male_salesOE]"
   ]
  },
  {
   "cell_type": "code",
   "execution_count": null,
   "id": "25e9b345-fa82-4f16-b016-06b27c57b4f4",
   "metadata": {},
   "outputs": [],
   "source": [
    "#Dont think we need this anymore\n",
    "\n",
    "\n",
    "group_names = {0:\"Female, Sales\",1:\"Female, Sales + OE\",2:\"Female, Purchases\",3:\"Male, Sales\",4:\"Male, Purchases\",5:\"Males, Sales + OE\"}\n",
    "\n",
    "if RUN_DESCR_STATS:\n",
    "    stats = pd.DataFrame()\n",
    "    \n",
    "    i = 0\n",
    "    \n",
    "    for idx in idx_lists:\n",
    "        print(len(idx))\n",
    "        temp = pd.DataFrame({\"Day\":[item for item in range(-20,21)]})\n",
    "        group = CARs.iloc[idx]\n",
    "        mean = group.mean(axis=0).to_frame(name=\"mean\").reset_index() \n",
    "        median = group.median(axis=0).to_frame(name=\"median\").reset_index() \n",
    "        std = group.std(axis=0).to_frame(name=\"std\").reset_index()\n",
    "        mini = (group.min(axis=0).to_frame(name=\"min\").reset_index())\n",
    "        maxi= (group.max(axis=0).to_frame(name=\"max\").reset_index())\n",
    "\n",
    "        temp = temp.merge(mean, left_on=\"Day\",right_on=mean[\"index\"].astype(\"int64\"))\n",
    "        temp=temp.merge(median,left_on=\"Day\",right_on=median[\"index\"].astype(\"int64\"))\n",
    "        temp=temp.merge(std,left_on=\"Day\",right_on=std[\"index\"].astype(\"int64\"))\n",
    "        temp=temp.merge(mini,left_on=\"Day\",right_on=mini[\"index\"].astype(\"int64\"))\n",
    "        temp=temp.merge(maxi,left_on=\"Day\",right_on=maxi[\"index\"].astype(\"int64\"))\n",
    "        \n",
    "        \n",
    "        temp[\"Group\"] = group_names[i]\n",
    "        i+=1\n",
    "        temp = temp.loc[:,~temp.columns.str.startswith('index')]\n",
    "        stats = pd.concat([stats,temp])\n",
    "        \n",
    "        stats.to_excel(path+\"stats.xlsx\")\n",
    "        stats.to_pickle(path+\"stats.pkl\")\n",
    "\n",
    "else: \n",
    "    stats = pd.read_pickle(path+\"stats.pkl\")\n",
    "\n"
   ]
  },
  {
   "cell_type": "code",
   "execution_count": null,
   "id": "1ffd4092-0374-49e4-91a7-dcd7241f59d8",
   "metadata": {},
   "outputs": [],
   "source": [
    "sns.set()\n",
    "sns.set(style=\"dark\")\n",
    "sns.set(rc={'figure.figsize':(12,7)})\n",
    "\n",
    "descr_stats = [\"mean\",\"median\"]\n",
    "\n",
    "for d in descr_stats:\n",
    "    subset = stats[[d,\"Day\",\"Group\"]]\n",
    "    for i in group_names:\n",
    "        data = subset[subset[\"Group\"]==group_names[i]]\n",
    "        sns.lineplot(data=data,x=\"Day\",y=d,palette=\"Set2\",err_style=\"bars\",label=group_names[i]).set(title=str(d)+' CARs')\n",
    "    plt.axhline(0,color=\"black\",linewidth=0.5)\n",
    "    plt.savefig(path+\"/Vis/\"+d, dpi=600, bbox_inches='tight')\n",
    "    plt.show()"
   ]
  }
 ],
 "metadata": {
  "kernelspec": {
   "display_name": "Python 3 (ipykernel)",
   "language": "python",
   "name": "python3"
  },
  "language_info": {
   "codemirror_mode": {
    "name": "ipython",
    "version": 3
   },
   "file_extension": ".py",
   "mimetype": "text/x-python",
   "name": "python",
   "nbconvert_exporter": "python",
   "pygments_lexer": "ipython3",
   "version": "3.9.12"
  }
 },
 "nbformat": 4,
 "nbformat_minor": 5
}
