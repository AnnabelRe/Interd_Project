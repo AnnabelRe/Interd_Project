{
 "cells": [
  {
   "cell_type": "markdown",
   "id": "3ec26b5c-5164-43e9-9e9c-08c6bf4b1d29",
   "metadata": {
    "tags": []
   },
   "source": [
    "# „Short term performance of female vs male directors‘ dealings in shares of Nasdaq Composite Index companies in the period 2000 - 2023“\n",
    "### Interdisciplinary Project: Annabel Resch, 11914287\n"
   ]
  },
  {
   "cell_type": "markdown",
   "id": "6d38c85e-baa9-47ca-8093-70191e7e928a",
   "metadata": {},
   "source": [
    "## Table of Contents\n",
    "\n",
    "[Step 1: Data Import](#step1)  \n",
    "\n",
    "- [Download all data from website](#download)  \n",
    "- [Data preprocessing](#prepro)  \n",
    "- [Explorative Analysis](#explo)  \n",
    "\n",
    "[Step 2: Director Classification](#step2)  \n",
    "\n",
    "[Step 3 and 4: Calculate Abnormal Returns (AR)](#step3)  \n",
    "- [Data import and preprocess daily company and market returns](#pp_dr)  \n",
    "- [Calculate Abnormal Returns](#calcAR)\n",
    "- [Calculate Cumulative Abnormal Returns](#calcCAR)\n",
    "\n",
    "[Step 5: Data Analysis](#step5)  \n",
    "- [Descriptive Statistics](#descr)  \n",
    "- [Statistical Hypothesis Testing](#ttest)  \n",
    "    - [Adjusted Standardized Cross-Sectional Test](#t1)  \n",
    "    - [Generalized Rank Test](#t2)\n",
    "\n",
    "[Step 6: Comparison and Visualizations](#vis)  \n",
    "- [Correlation matrices](#corr)"
   ]
  },
  {
   "cell_type": "code",
   "execution_count": 4,
   "id": "9f93301a-7aaa-4c5b-a643-06b258fc9d25",
   "metadata": {},
   "outputs": [],
   "source": [
    "import os\n",
    "import pandas as pd\n",
    "import pickle\n",
    "import numpy as np\n",
    "import warnings\n",
    "import seaborn as sns\n",
    "import re\n",
    "from names_dataset import NameDataset\n",
    "import time\n",
    "import datetime \n",
    "import import_data\n",
    "import matplotlib.pyplot as plt\n",
    "import gender_classification\n",
    "import calculate_AR\n",
    "#import ttest\n",
    "from IPython.display import clear_output\n",
    "\n",
    "warnings.filterwarnings('ignore')\n",
    "\n",
    "path = \"/Users/admin/Documents/IP/data/\"\n",
    "\n",
    "RUN_IMPORT = False\n",
    "RUN_PREPROCESSING = False \n",
    "RUN_CLASSIFICATION = False\n",
    "RUN_DAILY_RETURNS = False\n",
    "RUN_Calc_AR = False\n",
    "RUN_DESCR_STATS = False\n",
    "RUN_TTESTS = False"
   ]
  },
  {
   "cell_type": "markdown",
   "id": "c9e4fa5f-dd21-40c2-aa19-c9e90062fc67",
   "metadata": {
    "tags": []
   },
   "source": [
    "# Step 1: Data Import  <a class=\"anchor\" id=\"step1\"></a>"
   ]
  },
  {
   "cell_type": "markdown",
   "id": "9a84955a-5aeb-4abf-878c-aa5fa5f19fba",
   "metadata": {},
   "source": [
    "### Download all data from website <a class=\"anchor\" id=\"download\"></a>"
   ]
  },
  {
   "cell_type": "markdown",
   "id": "5e6a6e01-9b47-4ddf-9c06-e45dfc9d8a34",
   "metadata": {},
   "source": [
    "We check 7669 distinct companies, which are currently or were in the past listend in the Nasdaq Composite Index.  \n",
    "However, only those with listed director dealing(s) of trade type 'Sale' or 'Purchase' are added to the dataframe. "
   ]
  },
  {
   "cell_type": "code",
   "execution_count": 5,
   "id": "903710eb-bf86-47d3-97a7-1d3a74686e18",
   "metadata": {
    "tags": []
   },
   "outputs": [],
   "source": [
    "if RUN_IMPORT == True:\n",
    "    start_time = time.time()\n",
    "    %run import_data.py\n",
    "    print(\"--- %s minutes ---\" % ((time.time() - start_time)/60))"
   ]
  },
  {
   "cell_type": "markdown",
   "id": "ecccbb5f-9437-4791-aa08-c4ebb7b60c24",
   "metadata": {},
   "source": [
    "### Preprocessing of downloaded data <a class=\"anchor\" id=\"prepro\"></a>"
   ]
  },
  {
   "cell_type": "markdown",
   "id": "98b87ea7-2d56-4689-93e4-fb381faa8657",
   "metadata": {},
   "source": [
    "First of all, we import the 8 files containing the transactions"
   ]
  },
  {
   "cell_type": "code",
   "execution_count": 13,
   "id": "ae8c495e-8d03-4171-a13e-b3b3ac527c54",
   "metadata": {
    "tags": []
   },
   "outputs": [
    {
     "name": "stdout",
     "output_type": "stream",
     "text": [
      "['.DS_Store', 'results_6.pkl', 'results_7.pkl', 'results_5.pkl', 'results_4.pkl', 'results_0.pkl', 'results_1.pkl', 'results_3.pkl', 'results_2.pkl']\n"
     ]
    }
   ],
   "source": [
    "if RUN_PREPROCESSING == True: \n",
    " \n",
    "    files = os.listdir(path+\"DD_download/\")\n",
    "    print(files)\n",
    "    df = pd.DataFrame()\n",
    "    \n",
    "    for f in files[1:]:\n",
    "        file = open(path+\"DD_download/\" + f, 'rb')\n",
    "        data = pickle.load(file)\n",
    "        file.close()\n",
    "        df = pd.concat([df,data]) "
   ]
  },
  {
   "cell_type": "markdown",
   "id": "95c72ff2-1833-4da7-9adb-8eb8376f3965",
   "metadata": {},
   "source": [
    "Now that we have our initial df set up, we can start analyzing the data and cleaning up the dataset."
   ]
  },
  {
   "cell_type": "code",
   "execution_count": 14,
   "id": "78d9ffdd-3b1a-4eab-a649-e0749a4a87d9",
   "metadata": {},
   "outputs": [
    {
     "name": "stdout",
     "output_type": "stream",
     "text": [
      "DF shape after immediate download: (1427040, 18)\n",
      "Number of duplicate rows: 708080\n",
      "After deleting all duplicates: (718960, 18)\n",
      "\n",
      "No director dealing found: 1838\n"
     ]
    }
   ],
   "source": [
    "if RUN_PREPROCESSING == True: \n",
    "    # Quick quality check next\n",
    "    # Drop all duplicates\n",
    "    \n",
    "    print(\"DF shape after immediate download: \" + str(df.shape))\n",
    "    print(\"Number of duplicate rows: \" + str(df.duplicated().sum()))\n",
    "    df.drop_duplicates(inplace=True)\n",
    "    print(\"After deleting all duplicates: \" + str(df.shape))\n",
    "    \n",
    "    # weirdly, all tickers start with a space \n",
    "    df.Ticker = df.Ticker.str[1:]\n",
    "\n",
    "    isin = pd.read_excel(path+ 'ISIN_merge.xlsx') \n",
    "    TICKERS = isin['TICKER SYMBOL'].tolist()\n",
    "    #print(len(TICKERS))\n",
    "    tickers_all= TICKERS\n",
    "    tickers = df.Ticker.unique().tolist()\n",
    "    no_DD = list(set(tickers_all) - set(tickers))\n",
    "    pd.DataFrame(no_DD).to_excel(path+\"Ticker_No_DD.xlsx\")\n",
    "    print(\"\\n\"+\"No director dealing found: \" + str(len(no_DD)))\n"
   ]
  },
  {
   "cell_type": "markdown",
   "id": "d17856ff-eb98-41b4-8c02-390ac37a6b7f",
   "metadata": {},
   "source": [
    "  "
   ]
  },
  {
   "cell_type": "markdown",
   "id": "54cd3426-36c9-431b-a8e0-be6ab387ce2a",
   "metadata": {},
   "source": [
    "We have a large number of tickers in the df that are not in the original set, because the ticker name has changed over the years.\n",
    "For that reason, I've added another column with the original ticker to the df during the import. \n",
    "After alignment with Prof. Aussenegg, I will drop all transactions, where OG Ticker != website Ticker! "
   ]
  },
  {
   "cell_type": "code",
   "execution_count": 16,
   "id": "4fbc15ac-3deb-4a69-879f-01f4e1a46729",
   "metadata": {},
   "outputs": [
    {
     "name": "stdout",
     "output_type": "stream",
     "text": [
      "\n",
      "Number of tickers that were not in the original list: 2105\n",
      "\n",
      "Before deleting Ticker mismatches: (718960, 18)\n",
      "After deleting Ticker mismatches: (621222, 18)\n"
     ]
    }
   ],
   "source": [
    "if RUN_PREPROCESSING == True: \n",
    "\n",
    "    not_in_list = list(set(tickers)-set(tickers_all))\n",
    "   \n",
    "    print(\"\\n\"+\"Number of tickers that were not in the original list: \" + str(len(not_in_list)))\n",
    "    pd.DataFrame(not_in_list).to_excel(path+\"Ticker_notin_OG.xlsx\")\n",
    "    \n",
    "    print(\"\\n\"+\"Before deleting Ticker mismatches: \" + str(df.shape))\n",
    "    ticker_mismatch = df[df[\"original_Ticker\"] != df[\"Ticker\"]]\n",
    "    ticker_mismatch.to_excel(path+\"tickers_deleted_notOG.xlsx\")\n",
    "    #just to be on the safe side both xlsx should be identical\n",
    "    \n",
    "    df = df[df[\"original_Ticker\"] == df[\"Ticker\"]]\n",
    "    print(\"After deleting Ticker mismatches: \" + str(df.shape))\n",
    "    "
   ]
  },
  {
   "cell_type": "markdown",
   "id": "b0699b04-25ef-432b-8987-ff3d3bc73eb8",
   "metadata": {},
   "source": [
    "  "
   ]
  },
  {
   "cell_type": "markdown",
   "id": "a5d61f1d-65cc-4bd3-aac8-0b071fce1daa",
   "metadata": {},
   "source": [
    "Okay, unnecessary rows are deleted, now let's delete columns that we don't need."
   ]
  },
  {
   "cell_type": "code",
   "execution_count": 17,
   "id": "05976dcb-f5af-4554-9b39-930c53ba1739",
   "metadata": {},
   "outputs": [
    {
     "name": "stdout",
     "output_type": "stream",
     "text": [
      "\n",
      "Out of 7670 initial companies, 5824 have listed a directors' Sale' or 'Purchase'.\n"
     ]
    }
   ],
   "source": [
    "if RUN_PREPROCESSING == True:    \n",
    "    \n",
    "    # Let's see how many companies we have left with a DD\n",
    "    distinct_tickers = df[\"Ticker\"].nunique()\n",
    "    print(\"\\n\"+ \"Out of \" + str(len(TICKERS))+\" initial companies, \" + str(distinct_tickers) +\" have listed a directors' Sale' or 'Purchase'.\")\n",
    "    \n",
    "# We only keep columns with valuable information\n",
    "\n",
    "    df.columns = ['X', 'Filing Date' , 'Trade Date','Ticker','Insider Name','Title','Trade Type',\n",
    "     'Price','Qty','Owned','ΔOwn',\"Value\",'1d','1w','1m','6m','original_Ticker','Company Name']\n",
    "    df = df[[ 'Filing Date', 'Trade Date', 'Ticker', 'Insider Name', 'Title', 'Trade Type']]\n",
    "\n",
    "# Save the preprocessed file\n",
    "    df.to_pickle(path+\"Transactions_preprocessed.pkl\")\n",
    "\n",
    "else: \n",
    "    df = pd.read_pickle(path+\"Transactions_preprocessed.pkl\")"
   ]
  },
  {
   "cell_type": "markdown",
   "id": "0e2cd4ea-d887-4d14-b972-7605826fa6ef",
   "metadata": {},
   "source": [
    "We need to add the ISIN Code for each company, because that will be used as unique key when joining with the daily return data. "
   ]
  },
  {
   "cell_type": "code",
   "execution_count": 43,
   "id": "aa533c92-65a0-4b99-9be4-0068f3c12541",
   "metadata": {
    "tags": []
   },
   "outputs": [],
   "source": [
    "isin = pd.read_excel(path+ 'ISIN_merge.xlsx') \n",
    "df = df.merge(isin,left_on=\"Ticker\", right_on=\"TICKER SYMBOL\", how='left').drop(columns=\"TICKER SYMBOL\")"
   ]
  },
  {
   "cell_type": "code",
   "execution_count": 44,
   "id": "792a7797-0782-48eb-8979-39b5aefc48c0",
   "metadata": {},
   "outputs": [
    {
     "name": "stdout",
     "output_type": "stream",
     "text": [
      "Transactions without ISIN Code: 6. TICKERS: ['PBBI']\n"
     ]
    }
   ],
   "source": [
    "not_found = df[df[\"ISIN CODE\"].isna()]\n",
    "print(\"Transactions without ISIN Code: \" +str(len(not_found))+ \". TICKERS: \" + str(not_found[\"Ticker\"].unique()))\n",
    "df.dropna(subset=['ISIN CODE'], inplace=True)"
   ]
  },
  {
   "cell_type": "markdown",
   "id": "5bb83aae-70f4-4ac7-9e82-32ae174cebcb",
   "metadata": {},
   "source": [
    "Only one Ticker 'PBBI' cannot be matched to an ISIN code. Those transactions will be disregarded in the analysis."
   ]
  },
  {
   "cell_type": "markdown",
   "id": "8f3ae0e5-2d28-49cf-9d94-24a11783c2e2",
   "metadata": {},
   "source": [
    "Data Quality check: If several DD of the same type and of the same person take place on the same day, then these transactions\n",
    "should be condensed to one transaction.  \n",
    "We need to normalize the filing date for that first. Thus, we drop the time and only keep the date. "
   ]
  },
  {
   "cell_type": "code",
   "execution_count": 48,
   "id": "a5e485b6-ecbf-40be-a9cf-35cd9485d3d8",
   "metadata": {},
   "outputs": [
    {
     "name": "stdout",
     "output_type": "stream",
     "text": [
      "(571763, 9)\n"
     ]
    }
   ],
   "source": [
    "df[\"Filing Date\"] = df['Filing Date'].apply(lambda x: pd.to_datetime(x).normalize())\n",
    "df[df.duplicated(subset=['Filing Date', 'Insider Name','Ticker','Trade Type'],keep=False)].to_excel(path + \"DD_sameDayPerson.xlsx\")\n",
    "df.drop_duplicates(subset=['Filing Date', 'Insider Name','Ticker','Trade Type'], keep='first',inplace=True)\n",
    "\n",
    "print(df.shape)"
   ]
  },
  {
   "cell_type": "markdown",
   "id": "5a6c8ec1-8f50-47e7-aedc-8cab3dd1588b",
   "metadata": {},
   "source": [
    "We have 31304 DD of the same person on the same day, sometimes even more than 2. We are deleting 17935 transactions. "
   ]
  },
  {
   "cell_type": "markdown",
   "id": "b85f1c78-341c-4ea8-8ac4-2d595aa98b5a",
   "metadata": {},
   "source": [
    "### Explorative Analysis of Transactions <a class=\"anchor\" id=\"explo\"></a>"
   ]
  },
  {
   "cell_type": "markdown",
   "id": "a393e8e5-bbd9-4219-8b8e-c670df2bc468",
   "metadata": {},
   "source": [
    "Let's see how many director dealings the companies have in average."
   ]
  },
  {
   "cell_type": "code",
   "execution_count": 18,
   "id": "81467baf-de5c-4eff-8568-9e9ec2496338",
   "metadata": {
    "tags": []
   },
   "outputs": [
    {
     "name": "stdout",
     "output_type": "stream",
     "text": [
      "Mean of transactions per company: 106.66586538461539\n",
      "Median of transactions per company: 49.0\n",
      "Max number of transactions per company: 9000. Company ticker: 2746    ISCA\n",
      "Name: Ticker, dtype: object\n"
     ]
    },
    {
     "data": {
      "text/html": [
       "<div>\n",
       "<style scoped>\n",
       "    .dataframe tbody tr th:only-of-type {\n",
       "        vertical-align: middle;\n",
       "    }\n",
       "\n",
       "    .dataframe tbody tr th {\n",
       "        vertical-align: top;\n",
       "    }\n",
       "\n",
       "    .dataframe thead th {\n",
       "        text-align: right;\n",
       "    }\n",
       "</style>\n",
       "<table border=\"1\" class=\"dataframe\">\n",
       "  <thead>\n",
       "    <tr style=\"text-align: right;\">\n",
       "      <th></th>\n",
       "      <th>Ticker</th>\n",
       "      <th>Filing Date</th>\n",
       "    </tr>\n",
       "  </thead>\n",
       "  <tbody>\n",
       "    <tr>\n",
       "      <th>2746</th>\n",
       "      <td>ISCA</td>\n",
       "      <td>9000</td>\n",
       "    </tr>\n",
       "    <tr>\n",
       "      <th>3386</th>\n",
       "      <td>MORN</td>\n",
       "      <td>2463</td>\n",
       "    </tr>\n",
       "    <tr>\n",
       "      <th>4276</th>\n",
       "      <td>QCOM</td>\n",
       "      <td>2048</td>\n",
       "    </tr>\n",
       "    <tr>\n",
       "      <th>5018</th>\n",
       "      <td>SYBT</td>\n",
       "      <td>1956</td>\n",
       "    </tr>\n",
       "    <tr>\n",
       "      <th>5403</th>\n",
       "      <td>UTHR</td>\n",
       "      <td>1863</td>\n",
       "    </tr>\n",
       "  </tbody>\n",
       "</table>\n",
       "</div>"
      ],
      "text/plain": [
       "     Ticker  Filing Date\n",
       "2746   ISCA         9000\n",
       "3386   MORN         2463\n",
       "4276   QCOM         2048\n",
       "5018   SYBT         1956\n",
       "5403   UTHR         1863"
      ]
     },
     "execution_count": 18,
     "metadata": {},
     "output_type": "execute_result"
    }
   ],
   "source": [
    "x = df.groupby('Ticker')['Filing Date'].agg('count').reset_index()\n",
    "print(\"Mean of transactions per company: \"+ str(x[\"Filing Date\"].mean()))\n",
    "print(\"Median of transactions per company: \"+ str(x[\"Filing Date\"].median()))\n",
    "print(\"Max number of transactions per company: \"+ str(x[\"Filing Date\"].max())+\". Company ticker: \"+str(x.sort_values(by=\"Filing Date\",ascending =False)[:1].Ticker))\n",
    "\n",
    "# To see which companies have the most transactions:\n",
    "x.sort_values(by=\"Filing Date\",ascending =False)[:5]"
   ]
  },
  {
   "cell_type": "markdown",
   "id": "c6355f33-c9bd-46eb-8645-8c291b5a34a9",
   "metadata": {
    "tags": []
   },
   "source": [
    "## Step 2: Director Classification <a class=\"anchor\" id=\"step2\"></a>"
   ]
  },
  {
   "cell_type": "markdown",
   "id": "a8b1ce48-289b-4626-957a-642af1053f8b",
   "metadata": {},
   "source": [
    "In this step, we classify the directors into male or female, based on the directors’ name. The gender will be saved in a new column  \"Gender\"."
   ]
  },
  {
   "cell_type": "code",
   "execution_count": 39,
   "id": "4a40a64b-493c-42ee-855d-30e6d8e8eacf",
   "metadata": {
    "tags": []
   },
   "outputs": [
    {
     "name": "stdout",
     "output_type": "stream",
     "text": [
      "(621222, 8)\n"
     ]
    }
   ],
   "source": [
    "if RUN_CLASSIFICATION == True:\n",
    "    start_time = time.time()    \n",
    "    \n",
    "    names = df['Insider Name'].unique()\n",
    "    print(\"Number of unique names: \" + str(len(names)))\n",
    "    \n",
    "    gender_all = gender_classification.classify(names)\n",
    "    \n",
    "    df[\"Gender\"] = df[\"Insider Name\"].apply(lambda x: gender_all.get(x))\n",
    "        \n",
    "    df.to_pickle(path+\"df_incl_gender.pkl\")\n",
    "    print(\"--- %s minutes ---\" % ((time.time() - start_time)/60))\n",
    "    \n",
    "else: \n",
    "    df = pd.read_pickle(path +\"df_incl_gender.pkl\")\n",
    "    print(df.shape)"
   ]
  },
  {
   "cell_type": "markdown",
   "id": "b6bc7601-4874-4bb4-81fd-ab700e0ef17e",
   "metadata": {},
   "source": [
    "### Explorative Analysis: Gender Distribution"
   ]
  },
  {
   "cell_type": "code",
   "execution_count": 40,
   "id": "52dac336-bc82-43e2-ae9a-ad65ce2efa1d",
   "metadata": {
    "tags": []
   },
   "outputs": [
    {
     "name": "stdout",
     "output_type": "stream",
     "text": [
      "\n",
      "Out of 621222 total transactions, 85.19% are made by male directors, 10.45% are made by female directors and 4.35% are not identifiable.\n"
     ]
    },
    {
     "data": {
      "image/png": "[encoded data removed]",
      "text/plain": [
       "<Figure size 720x576 with 1 Axes>"
      ]
     },
     "metadata": {},
     "output_type": "display_data"
    }
   ],
   "source": [
    "male = len(df[df.Gender =='Male'])/df.shape[0]\n",
    "female = len(df[df.Gender =='Female'])/df.shape[0]\n",
    "na = len(df[df.Gender =='na'])/df.shape[0]\n",
    "\n",
    "d = {'Gender': ['male','female','na'], 'count': [male,female,na]}\n",
    "dist = pd.DataFrame(data=d)\n",
    "\n",
    "print(\"\\n\"+\"Out of \" +str(df.shape[0])+ \" total transactions, \" + str(np.round((male*100),2))+\"% are made by male directors, \" + str(np.round((female*100),2))+ \"% are made by female directors and \" + str(np.round((na*100),2))+\"% are not identifiable.\")\n",
    "\n",
    "#col=sns.color_palette(\"pastel\")\n",
    "col=[\"darkorange\",\"teal\",\"skyblue\"]\n",
    "sns.set(rc={'figure.figsize':(10,8)})\n",
    "ax = sns.barplot(data=dist, x=\"Gender\", y=\"count\",palette=col)\n",
    "\n",
    "ax.bar_label(ax.containers[0], fmt='%.3f')\n",
    "plt.savefig(path+\"/Vis/\"+\"bar_dist_gender\", dpi=600, bbox_inches='tight')\n",
    "\n",
    "plt.show()"
   ]
  },
  {
   "cell_type": "markdown",
   "id": "a98106fc-06b3-4afb-85b2-e15aaba37d79",
   "metadata": {
    "tags": []
   },
   "source": [
    "We will drop all transactions made by a director, that cannot be classified to a gender. This can have different reasons, which will be further explained in the final report. "
   ]
  },
  {
   "cell_type": "code",
   "execution_count": 41,
   "id": "6f8db33c-23f1-4218-8cbe-c0832cab7b8b",
   "metadata": {
    "tags": []
   },
   "outputs": [
    {
     "name": "stdout",
     "output_type": "stream",
     "text": [
      "Number of dropped rows, which cannot be classified to a gender: 27011\n",
      "DF shape after NAs got dropped: (594211, 8)\n"
     ]
    }
   ],
   "source": [
    "print(\"Number of dropped rows, which cannot be classified to a gender: \" + str(len(df[df.Gender =='na'])))\n",
    "df[df.Gender =='na'].to_excel(path + \"NAs.xlsx\")\n",
    "df = df[df[\"Gender\"]!=\"na\"]\n",
    "print(\"DF shape after NAs got dropped: \" + str(df.shape))"
   ]
  },
  {
   "cell_type": "markdown",
   "id": "98d747b1-547e-4abf-bd4b-4447899caf62",
   "metadata": {
    "tags": []
   },
   "source": [
    "## Step 3&4: Calculate (Cumulative) Abnormal Returns <a class=\"anchor\" id=\"step3\"></a>\n"
   ]
  },
  {
   "cell_type": "markdown",
   "id": "1e76d489-5a9e-44da-b6b6-9d01c2ae1515",
   "metadata": {
    "tags": []
   },
   "source": [
    "### Import and preprocess daily company and market returns <a class=\"anchor\" id=\"pp_dr\"></a>"
   ]
  },
  {
   "cell_type": "code",
   "execution_count": 42,
   "id": "edcefc26-00bd-4d3d-8f78-064fe4a7e8d0",
   "metadata": {
    "tags": []
   },
   "outputs": [],
   "source": [
    "if RUN_DAILY_RETURNS == True:\n",
    "    # first we import the daily returns of the companies\n",
    "    files = os.listdir(path+\"daily/\")\n",
    "    \n",
    "    daily = pd.DataFrame()\n",
    "    \n",
    "    for f in files:\n",
    "        print(f)\n",
    "        data = pd.read_excel(path+\"daily/\"+f,skiprows=5)\n",
    "        data = data.iloc[1:]\n",
    "        #transpose isins to row idx\n",
    "        data = data.transpose()\n",
    "        #make columns = days \n",
    "        data.columns = data.iloc[0]\n",
    "        data = data.iloc[1:]\n",
    "\n",
    "        daily = pd.concat([daily,data])\n",
    "        \n",
    "    # need to drop this, because company has no daily prices but only value: $$ER: 2381,NO DATA AVAILABLE\n",
    "    daily = daily.drop('MHY8900D1085')\n",
    "    daily.to_pickle(path + \"daily.pkl\")\n",
    "    DR_companies = daily.pct_change(axis='columns', periods=1)\n",
    "    DR_companies.replace([np.inf, -np.inf], np.nan, inplace=True)\n",
    "    DR_companies.to_pickle(path + \"DR_companies.pkl\")\n",
    "    \n",
    "    #Let's also import the daily returns of the market\n",
    "    daily_market = pd.read_excel(path+\"Nasdaq Composite Index (RI (Totlal Return) and PI (Price Index)) 07_1999 - 07_2023.xlsx\")\n",
    "    daily_market.drop([0,1,2,4], inplace=True)\n",
    "    daily_market = daily_market.transpose()\n",
    "    daily_market.columns = daily_market.iloc[0]\n",
    "    daily_market = daily_market.iloc[1:]\n",
    "    daily_market = daily_market.set_index('Code')\n",
    "\n",
    "    DR_market = daily_market.pct_change(axis='columns', periods=1)\n",
    "    DR_market.to_pickle(path + \"DR_market.pkl\")\n",
    "\n",
    "else:\n",
    "    DR_companies = pd.read_pickle(path + \"DR_companies.pkl\")\n",
    "    DR_market = pd.read_pickle(path + \"DR_market.pkl\")"
   ]
  },
  {
   "cell_type": "markdown",
   "id": "2d661531-f23d-4da4-9670-81df030f375a",
   "metadata": {},
   "source": [
    "Let's check if all the ISIN Codes are also found in the daily return company list. \n",
    "If we have no daily returns for a company, we cannot calculate the AR and therefore drop those rows/transactions."
   ]
  },
  {
   "cell_type": "code",
   "execution_count": 45,
   "id": "a1dd0f71-e67c-4da2-a0ae-9d8a5e55febe",
   "metadata": {},
   "outputs": [
    {
     "name": "stdout",
     "output_type": "stream",
     "text": [
      "121\n",
      "DF shape after dropping companies, for which we don't have daily returns: (589698, 9)\n"
     ]
    }
   ],
   "source": [
    "df_isins = df[\"ISIN CODE\"].tolist()\n",
    "dr_isins = DR_companies.index.values.tolist()\n",
    "\n",
    "isin_not_in_dr = set(df_isins)-set(dr_isins)\n",
    "print(len(isin_not_in_dr))\n",
    "pd.DataFrame(isin_not_in_dr).to_excel(path+\"ISIN_notinDR.xlsx\")\n",
    "df = df[~df['ISIN CODE'].isin(isin_not_in_dr)]\n",
    "print(\"DF shape after dropping companies, for which we don't have daily returns: \" + str(df.shape))"
   ]
  },
  {
   "cell_type": "markdown",
   "id": "127cd5a3-a483-47c0-8ac6-e4116d806aba",
   "metadata": {},
   "source": [
    "### Calculate Abornal Returns <a class=\"anchor\" id=\"calcAR\"></a>"
   ]
  },
  {
   "cell_type": "code",
   "execution_count": null,
   "id": "ad2088ed-391f-41c3-b7c3-cb7ff8fbf5a4",
   "metadata": {},
   "outputs": [],
   "source": [
    "# some more preprocessing before calculating the individual Abnormal Returns\n",
    "# we need to drop all transactions that are too recent, wo we cannot calculate event window\n",
    "print(\"Number of transactions after June 23 (too recent): \" + str(len(df[df['Filing Date'] > \"2023-06-01 00:00:00\"])))\n",
    "df[df['Filing Date'] > \"2023-06-01 00:00:00\"].to_excel(path+\"FilingDate_toorecent.xlsx\")\n",
    "df = df.drop(df[df['Filing Date'] > \"2023-06-01 00:00:00\"].index)\n",
    "\n",
    "print(\"\\n\"+\"Number of transactions before 2003 (no market RI data): \" + str(len(df[df['Filing Date'] < \"2003-01-01 00:00:00\"])))\n",
    "df[df[df['Filing Date'] < \"2003-01-01 00:00:00\"]].to_excel(path+\"FDtooearly_nomarketRI.xlsx\")\n",
    "df = df.drop(df[df['Filing Date'] < \"2003-01-01 00:00:00\"].index)\n",
    "\n",
    "#infinite values cannot be processed, we replace them with nan values\n",
    "DR_companies.replace([np.inf, -np.inf], np.nan, inplace=True)"
   ]
  },
  {
   "cell_type": "code",
   "execution_count": null,
   "id": "e4272050-afbe-42b7-aef2-af6bae5c405b",
   "metadata": {},
   "outputs": [],
   "source": [
    "DR_market[\"29.06.2023  00:00:00\"] = 0.0"
   ]
  },
  {
   "cell_type": "code",
   "execution_count": null,
   "id": "7dafd2ae-89e5-456c-b06e-631f3a51db14",
   "metadata": {
    "tags": []
   },
   "outputs": [],
   "source": [
    "if RUN_Calc_AR == True:\n",
    "    mr = DR_market[:1]\n",
    "    cols = [str(item)for item in range(-20,21)]\n",
    "    start_time = time.time()\n",
    "    epses = []\n",
    "    empty = pd.DataFrame(np.zeros((1, 41))).astype(\"float32\")\n",
    "    empty_all = []\n",
    "    \n",
    "    for i in range(4):\n",
    "        scope = np.ceil(df.shape[0]/4).astype(\"int64\")\n",
    "        print(i)\n",
    "        start = i*scope\n",
    "        end = start+scope\n",
    "        print(start,end)\n",
    "        \n",
    "        # cr = company daily return, mr = market daily return\n",
    "        ARs = pd.DataFrame()\n",
    "        count = 1\n",
    "       \n",
    "        for v in df.values[start:end,:]:\n",
    "\n",
    "            event_date = v[0]\n",
    "            isin = v[-1]\n",
    "\n",
    "            cr = DR_companies.loc[isin]\n",
    "\n",
    "            abnormal_returns,eps = calculate_AR.run_calculation_AR(event_date,cr,mr)\n",
    "            check_if_empty = (abnormal_returns == empty).all()\n",
    "            if (check_if_empty == True).all():\n",
    "                empty_all.append(abnormal_returns)\n",
    "                continue\n",
    "                \n",
    "            ARs = pd.concat([ARs,pd.DataFrame(abnormal_returns)])\n",
    "            epses.append(eps)\n",
    "            count+=1\n",
    "        \n",
    "        ARs.columns = cols\n",
    "        print(ARs.shape)\n",
    "        print(df[start:end].shape)\n",
    "        df_all = pd.concat([df[start:end].reset_index(drop=True), ARs.reset_index(drop=True)], axis=1)\n",
    "        print(df_all.shape)\n",
    "        \n",
    "        # preprocessing: drop all empty rows with no AR\n",
    "        drop = df_all.iloc[:, 9:51]\n",
    "        drop['matching'] = drop.eq(drop.iloc[:,0], axis=0).all(1)\n",
    "        drop_idx = drop[drop[\"matching\"]==True].index.tolist()\n",
    "        print(\"Number of empty (only 0s) ARs: \" + str(len(drop_idx)))\n",
    "\n",
    "        ARs =  df_all.drop(df_all.index[d] for d in drop_idx)\n",
    "        \n",
    "        print(ARs.shape)\n",
    "        old_shape =ARs.shape[0]\n",
    "        #drop empty df\n",
    "        ARs.dropna(subset=\"-20\",inplace=True)\n",
    "        ARs.dropna(subset=\"-1\",inplace=True)\n",
    "        # need to drop SKYX bcs of extreme outliers\n",
    "        ARs = ARs.drop(ARs[ARs[\"Ticker\"]==\"SKYX\"].index)\n",
    "        ARs = ARs.drop(ARs[ARs[\"Ticker\"]==\"SKYW\"].index)\n",
    "        print(old_shape-ARs.shape[0])\n",
    "        \n",
    "        ARs.to_pickle(path +\"/ARs/\" +f\"ARs_{i}.pkl\")\n",
    "    \n",
    "        print(\"--- %s minutes ---\" % ((time.time() - start_time)/60))\n",
    "        break\n",
    "else:\n",
    "    ARs = pd.DataFrame()\n",
    "    for i in range(1):\n",
    "        part = pd.read_pickle(path+\"/ARs/\" +f\"ARs_{i}.pkl\")\n",
    "        print(part.shape)\n",
    "        ARs = pd.concat([ARs,part])\n",
    "    print(ARs.shape)\n",
    "    ARs = ARs.reset_index(drop=True)"
   ]
  },
  {
   "cell_type": "markdown",
   "id": "e099a16a-79f6-4a46-9f42-586f94a29d00",
   "metadata": {},
   "source": [
    "### Calculate CAR <a class=\"anchor\" id=\"calcCAR\"></a>"
   ]
  },
  {
   "cell_type": "code",
   "execution_count": null,
   "id": "d908499d-780d-43ea-a38f-983db550074b",
   "metadata": {
    "tags": []
   },
   "outputs": [],
   "source": [
    "ARs = ARs.drop(ARs[ARs[\"Ticker\"]==\"SKYW\"].index)\n",
    "\n",
    "CARs = ARs.iloc[:, 9:51].cumsum(axis=1)\n",
    "CARs = pd.concat([ARs.iloc[:,1:9],CARs],axis=1)\n",
    "CARs.to_pickle(path+\"CARs.pkl\")"
   ]
  },
  {
   "cell_type": "markdown",
   "id": "03ad9db6-c085-40a9-a935-36764fee5d7e",
   "metadata": {},
   "source": [
    "## Step 5: Data Analysis // Statistical Testing <a class=\"anchor\" id=\"step5\"></a>"
   ]
  },
  {
   "cell_type": "markdown",
   "id": "564a46aa-70f3-4fbb-a5f4-be065d77180b",
   "metadata": {},
   "source": [
    "### Cross Sectional Analysis of descriptive statistics  <a class=\"anchor\" id=\"descr\"></a>"
   ]
  },
  {
   "cell_type": "code",
   "execution_count": null,
   "id": "a2d89155-13f3-4b5c-a8a2-d358a61b10c0",
   "metadata": {},
   "outputs": [],
   "source": [
    "groups= ARs.groupby([\"Gender\",\"Trade Type\"]).size().to_frame(name = 'count').reset_index() \n",
    "groups[\"Share\"] = np.round((groups[\"count\"]/ARs.shape[0])*100,2).apply(lambda x: str(x)+\"%\")\n",
    "groups"
   ]
  },
  {
   "cell_type": "code",
   "execution_count": null,
   "id": "ee48f1e6-99da-426d-b8d9-b99d141fa0f0",
   "metadata": {},
   "outputs": [],
   "source": [
    "print(groups.to_latex(index=False,formatters={\"name\": str.upper},float_format=\"{:.1f}\".format))"
   ]
  },
  {
   "cell_type": "code",
   "execution_count": null,
   "id": "a1a6dd1c-5ae5-4745-a504-1537921674e5",
   "metadata": {
    "tags": []
   },
   "outputs": [],
   "source": [
    "label =groups[\"Gender\"]+\": \"+groups[\"Trade Type\"]\n",
    "colors = sns.color_palette('pastel')[0:7]\n",
    "plt.figure(figsize=(10,6))\n",
    "#create pie chart\n",
    "patches, texts =plt.pie(groups[\"count\"],labels=groups[\"Share\"], labeldistance = 0.6,colors = colors)\n",
    "plt.legend(patches, label, loc=\"best\")\n",
    "plt.savefig(path+\"/Vis/Pie_dist_Groups\", dpi=600, bbox_inches='tight')\n",
    "\n",
    "plt.axis('equal')\n",
    "plt.tight_layout()\n",
    "plt.show()\n"
   ]
  },
  {
   "cell_type": "code",
   "execution_count": null,
   "id": "fbbc597e-278f-45ee-8829-b062d68b3ba5",
   "metadata": {},
   "outputs": [],
   "source": [
    "sns.set()\n",
    "sns.set(style=\"dark\")\n",
    "sns.set(rc={'figure.figsize':(12,7)})\n",
    "col=[\"darkorange\",\"teal\"]\n",
    "sns.histplot(data = ARs, x=\"Trade Type\", hue=\"Gender\", multiple =\"dodge\",shrink=.8,palette=col)\n",
    "\n",
    "plt.savefig(path+\"/Vis/bar_Groups\", dpi=600, bbox_inches='tight')\n",
    "\n",
    "plt.tight_layout()\n",
    "plt.show()"
   ]
  },
  {
   "cell_type": "code",
   "execution_count": null,
   "id": "9531a7a2-c930-4b31-a186-713671bfd4de",
   "metadata": {},
   "outputs": [],
   "source": [
    "#ARs.groupby([\"Gender\",\"Trade Type\"]).size().to_frame(name = 'count').reset_index() \n",
    "\n",
    "CAAR = CARs.groupby([\"Gender\",\"Trade Type\"]).mean().transpose()\n",
    "MCAR = CARs.groupby([\"Gender\",\"Trade Type\"]).median().transpose()\n",
    "\n",
    "print(CAAR.describe().to_latex(index=False,formatters={\"name\": str.upper},float_format=\"{:.4f}\".format))"
   ]
  },
  {
   "cell_type": "markdown",
   "id": "97f3acc3-6920-4bb2-ab0c-d719f870b9c2",
   "metadata": {},
   "source": [
    "Visualize descriptive stats"
   ]
  },
  {
   "cell_type": "code",
   "execution_count": null,
   "id": "603fb9ff-d97f-4713-b20c-9815ab9d3465",
   "metadata": {
    "tags": []
   },
   "outputs": [],
   "source": [
    "sns.set()\n",
    "sns.set(style=\"dark\")\n",
    "sns.set(rc={'figure.figsize':(15,7)})\n",
    "\n",
    "CAAR['Day'] = CAAR.index\n",
    "fig = CAAR.plot().set_title(\"CAAR\")\n",
    "plt.axhline(0,color=\"black\",linewidth=0.5)\n",
    "plt.axvline(x=20,color=\"red\",ls=\"--\")\n",
    "plt.savefig(path+\"/Vis/CAAR\", dpi=600, bbox_inches='tight')\n",
    "plt.show()\n",
    "\n",
    "MCAR['Day'] = MCAR.index\n",
    "fig = MCAR.plot().set_title(\"MCAR\")\n",
    "plt.axhline(0,color=\"black\",linewidth=0.5)\n",
    "plt.axvline(x=20,color=\"red\",ls=\"--\")\n",
    "plt.savefig(path+\"/Vis/MCAR\", dpi=600, bbox_inches='tight')\n",
    "plt.show()"
   ]
  },
  {
   "cell_type": "code",
   "execution_count": null,
   "id": "d0bc3f4f-bcfe-491f-b245-712a6e691ecd",
   "metadata": {},
   "outputs": [],
   "source": [
    "dates_cluster = ARs.groupby([\"Filing Date\"]).size().to_frame(name = 'count').reset_index() \n",
    "print(dates_cluster[\"count\"].median())\n",
    "print(dates_cluster[\"count\"].mean())\n",
    "\n",
    "plt.figure(figsize=(15,6))\n",
    "sns.lineplot(data=dates_cluster, x=\"Filing Date\", y=\"count\")\n",
    "plt.axhline(y=dates_cluster[\"count\"].mean(),color=\"red\",ls=\"--\")\n",
    "\n",
    "plt.savefig(path+\"/Vis/dates_cluster\", dpi=600, bbox_inches='tight')"
   ]
  },
  {
   "cell_type": "code",
   "execution_count": null,
   "id": "ac120f57-21a3-47fd-9af9-f999b6a01d70",
   "metadata": {},
   "outputs": [],
   "source": [
    "top10_dates = dates_cluster.sort_values(by=\"count\", ascending=False)[:10]\n",
    "print(top10_dates.to_latex(index=False,formatters={\"name\": str.upper},float_format=\"{:.1f}\".format))"
   ]
  },
  {
   "cell_type": "markdown",
   "id": "1883b79b-e78b-4371-ae25-9d249762997f",
   "metadata": {},
   "source": [
    "### Let's analyze the different time frames"
   ]
  },
  {
   "cell_type": "code",
   "execution_count": null,
   "id": "e8213f4b-2172-48a3-a15d-a3907aa49146",
   "metadata": {
    "tags": []
   },
   "outputs": [],
   "source": [
    "stats = pd.DataFrame()\n",
    "timeframes = [(\"-20\",\"-1\"),(\"0\",\"5\"),(\"0\",\"10\"),(\"0\",\"20\")]\n",
    "row,col = 0,0\n",
    "\n",
    "fig, axs = plt.subplots(ncols=2,nrows=2)\n",
    "plt.figsize=(10,10)\n",
    "for tf in timeframes:\n",
    "    CAR = CARs.loc[:,tf[0]:tf[1]]\n",
    "    \n",
    "    CAAR = CARs.groupby([\"Gender\",\"Trade Type\"]).mean().transpose()\n",
    "   \n",
    "    \n",
    "    fig = CAAR.plot(ax=axs[col][row])\n",
    "    fig.set_title(\"Timeframe: \"+str(tf))\n",
    "    fig.legend(fontsize=\"7\" ,loc=\"upper left\")\n",
    "    fig.set(ylim=(-0.025,0.045))\n",
    "    if (row == 0) & (col==0):\n",
    "        row=1\n",
    "        \n",
    "    elif (row == 0) & (col==1):\n",
    "        row=1\n",
    "        col=1\n",
    "    elif (row == 1) & (col==0):\n",
    "        row=0\n",
    "        col=1\n",
    "   \n",
    "    plt.axhline(0,color=\"black\",linewidth=0.5)    \n",
    "    \n",
    "    descr_stats =CAAR.describe().transpose()\n",
    "    descr_stats[\"timeframe\"]=str(tf)\n",
    "    stats = pd.concat([stats,descr_stats])\n",
    "    \n",
    "plt.savefig(path+\"/Vis/tfs\", dpi=600, bbox_inches='tight')\n",
    "plt.show()    "
   ]
  },
  {
   "cell_type": "markdown",
   "id": "50529802-65d2-4aa7-9e79-d6fafaaefe66",
   "metadata": {},
   "source": [
    "## Statistical Hypothesis Testing  <a class=\"anchor\" id=\"ttest\"></a>"
   ]
  },
  {
   "cell_type": "markdown",
   "id": "8e9a96be-29da-483b-941e-8f6d778a2b19",
   "metadata": {},
   "source": [
    "### Adjusted Standardized Cross-Sectional test based on Kolari and Pynnönen (2010), parametric test  <a class=\"anchor\" id=\"t1\"></a>"
   ]
  },
  {
   "cell_type": "code",
   "execution_count": null,
   "id": "2b012392-5fa1-42d0-8885-b3deb7bbd722",
   "metadata": {},
   "outputs": [],
   "source": [
    "if RUN_TTESTS: \n",
    "    %run ttest.py\n",
    "else: \n",
    "    ttest_params = pd.read_pickle(path+\"ttest_params.pkl\")\n",
    "    ttest_results = pd.read_pickle(path+\"ttest_results.pkl\")"
   ]
  },
  {
   "cell_type": "code",
   "execution_count": null,
   "id": "5be01885-8f76-48ce-9210-3a129ddde32b",
   "metadata": {},
   "outputs": [],
   "source": [
    "ttest_df = pd.DataFrame(ttest_results, index=pd.MultiIndex.from_tuples(ttest_params, names=[\"Trade Type\", \"CAR timeframe\"]))\n",
    "ttest_df.columns = [\"Δ CAAR\", \"p-value\"]\n",
    "print(ttest_df.to_latex(formatters={\"name\": str.upper},float_format=\"{:.5f}\".format))"
   ]
  },
  {
   "cell_type": "markdown",
   "id": "7ef2bb91-b3ad-4074-9b44-4ccd06d5a11c",
   "metadata": {},
   "source": [
    "### Generalized Rank Test based on Kolari and Pynnönen (2011), non-parametric test <a class=\"anchor\" id=\"t2\"></a>"
   ]
  },
  {
   "cell_type": "code",
   "execution_count": null,
   "id": "2fc50d67-e7dd-4ed0-9e37-6d1956e9b6b3",
   "metadata": {},
   "outputs": [],
   "source": [
    "if RUN_TTESTS: \n",
    "    %run rtest.py\n",
    "else: \n",
    "    rtest_params = pd.read_pickle(path+\"rtest_params.pkl\")\n",
    "    rtest_results = pd.read_pickle(path+\"rtest_results.pkl\")"
   ]
  }
 ],
 "metadata": {
  "kernelspec": {
   "display_name": "Python 3 (ipykernel)",
   "language": "python",
   "name": "python3"
  },
  "language_info": {
   "codemirror_mode": {
    "name": "ipython",
    "version": 3
   },
   "file_extension": ".py",
   "mimetype": "text/x-python",
   "name": "python",
   "nbconvert_exporter": "python",
   "pygments_lexer": "ipython3",
   "version": "3.9.12"
  }
 },
 "nbformat": 4,
 "nbformat_minor": 5
}
